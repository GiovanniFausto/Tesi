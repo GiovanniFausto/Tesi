{
  "nbformat": 4,
  "nbformat_minor": 0,
  "metadata": {
    "colab": {
      "name": "AnalisiDati.ipynb",
      "provenance": [],
      "collapsed_sections": [],
      "toc_visible": true
    },
    "kernelspec": {
      "name": "python3",
      "display_name": "Python 3"
    }
  },
  "cells": [
    {
      "cell_type": "code",
      "metadata": {
        "id": "1-k-lQ5lbGYG"
      },
      "source": [
        "import torch\n",
        "import pandas as pd\n",
        "import matplotlib.pyplot as plt\n",
        "import itertools\n",
        "from google.colab import drive"
      ],
      "execution_count": 1,
      "outputs": []
    },
    {
      "cell_type": "code",
      "metadata": {
        "id": "n2KTChu-fA9T",
        "outputId": "847b819a-adb2-415f-e0e1-5fba76b18385",
        "colab": {
          "base_uri": "https://localhost:8080/",
          "height": 33
        }
      },
      "source": [
        "drive.mount('/content/drive')"
      ],
      "execution_count": 26,
      "outputs": [
        {
          "output_type": "stream",
          "text": [
            "Drive already mounted at /content/drive; to attempt to forcibly remount, call drive.mount(\"/content/drive\", force_remount=True).\n"
          ],
          "name": "stdout"
        }
      ]
    },
    {
      "cell_type": "code",
      "metadata": {
        "id": "VtP8E3IYdphO"
      },
      "source": [
        "datasetCora=\"cora\"\n",
        "datasetCiteseer=\"citeseer\"\n",
        "pathsaveCora=\"/content/drive/My Drive/Colab Notebooks/TESI/save/\"+datasetCora+\"/\"\n",
        "pathsaveCiteseer=\"/content/drive/My Drive/Colab Notebooks/TESI/save/\"+datasetCiteseer+\"/\"\n",
        "pathsalvataggiCora=pathsaveCora+'salvataggiCora.pt'\n",
        "pathsavedataframeCora=pathsaveCora+'dataframeCora.pt'\n",
        "pathsalvataggiCiteseer=pathsaveCiteseer+'salvataggiCiteSeer.pt'\n",
        "pathsavedataframeCiteseer=pathsaveCiteseer+'dataframeCiteSeer.pt'"
      ],
      "execution_count": 27,
      "outputs": []
    },
    {
      "cell_type": "code",
      "metadata": {
        "id": "GuYOMSmZdpjh"
      },
      "source": [
        "datiCora=torch.load(pathsalvataggiCora)\n",
        "datiCiteseer=torch.load(pathsalvataggiCiteseer)\n",
        "dataframeCora=torch.load(pathsavedataframeCora)\n",
        "dataframeCitesser=torch.load(pathsavedataframeCiteseer)"
      ],
      "execution_count": 36,
      "outputs": []
    },
    {
      "cell_type": "code",
      "metadata": {
        "id": "e__Fx_f5dpmd",
        "outputId": "fae8ebb7-7535-4bb9-e899-943f820cabc0",
        "colab": {
          "base_uri": "https://localhost:8080/",
          "height": 392
        }
      },
      "source": [
        "dataframeCora"
      ],
      "execution_count": 37,
      "outputs": [
        {
          "output_type": "execute_result",
          "data": {
            "text/html": [
              "<div>\n",
              "<style scoped>\n",
              "    .dataframe tbody tr th:only-of-type {\n",
              "        vertical-align: middle;\n",
              "    }\n",
              "\n",
              "    .dataframe tbody tr th {\n",
              "        vertical-align: top;\n",
              "    }\n",
              "\n",
              "    .dataframe thead th {\n",
              "        text-align: right;\n",
              "    }\n",
              "</style>\n",
              "<table border=\"1\" class=\"dataframe\">\n",
              "  <thead>\n",
              "    <tr style=\"text-align: right;\">\n",
              "      <th></th>\n",
              "      <th>Modelli</th>\n",
              "      <th>BestAUC</th>\n",
              "      <th>BestACC</th>\n",
              "      <th>LivelliLineari</th>\n",
              "      <th>LivelliGat</th>\n",
              "      <th>Head</th>\n",
              "      <th>Output</th>\n",
              "      <th>FattoreRiduzione</th>\n",
              "      <th>lossMin</th>\n",
              "      <th>NumFeatures</th>\n",
              "    </tr>\n",
              "  </thead>\n",
              "  <tbody>\n",
              "    <tr>\n",
              "      <th>0</th>\n",
              "      <td>modello0</td>\n",
              "      <td>0.739574</td>\n",
              "      <td>0.645197</td>\n",
              "      <td>1</td>\n",
              "      <td>1</td>\n",
              "      <td>1</td>\n",
              "      <td>20</td>\n",
              "      <td>1.5</td>\n",
              "      <td>0.636166</td>\n",
              "      <td>1433</td>\n",
              "    </tr>\n",
              "    <tr>\n",
              "      <th>1</th>\n",
              "      <td>modello1</td>\n",
              "      <td>0.775238</td>\n",
              "      <td>0.634279</td>\n",
              "      <td>2</td>\n",
              "      <td>1</td>\n",
              "      <td>1</td>\n",
              "      <td>20</td>\n",
              "      <td>1.5</td>\n",
              "      <td>0.618343</td>\n",
              "      <td>1433</td>\n",
              "    </tr>\n",
              "    <tr>\n",
              "      <th>2</th>\n",
              "      <td>modello2</td>\n",
              "      <td>0.761060</td>\n",
              "      <td>0.639738</td>\n",
              "      <td>1</td>\n",
              "      <td>1</td>\n",
              "      <td>1</td>\n",
              "      <td>40</td>\n",
              "      <td>1.5</td>\n",
              "      <td>0.631665</td>\n",
              "      <td>1433</td>\n",
              "    </tr>\n",
              "    <tr>\n",
              "      <th>3</th>\n",
              "      <td>modello3</td>\n",
              "      <td>0.887762</td>\n",
              "      <td>0.754367</td>\n",
              "      <td>3</td>\n",
              "      <td>1</td>\n",
              "      <td>1</td>\n",
              "      <td>40</td>\n",
              "      <td>1.5</td>\n",
              "      <td>0.479629</td>\n",
              "      <td>1433</td>\n",
              "    </tr>\n",
              "    <tr>\n",
              "      <th>4</th>\n",
              "      <td>modello4</td>\n",
              "      <td>0.831584</td>\n",
              "      <td>0.732533</td>\n",
              "      <td>1</td>\n",
              "      <td>2</td>\n",
              "      <td>1</td>\n",
              "      <td>20</td>\n",
              "      <td>1.5</td>\n",
              "      <td>0.547104</td>\n",
              "      <td>1433</td>\n",
              "    </tr>\n",
              "    <tr>\n",
              "      <th>...</th>\n",
              "      <td>...</td>\n",
              "      <td>...</td>\n",
              "      <td>...</td>\n",
              "      <td>...</td>\n",
              "      <td>...</td>\n",
              "      <td>...</td>\n",
              "      <td>...</td>\n",
              "      <td>...</td>\n",
              "      <td>...</td>\n",
              "      <td>...</td>\n",
              "    </tr>\n",
              "    <tr>\n",
              "      <th>91</th>\n",
              "      <td>modello91</td>\n",
              "      <td>0.861322</td>\n",
              "      <td>0.766376</td>\n",
              "      <td>3</td>\n",
              "      <td>2</td>\n",
              "      <td>4</td>\n",
              "      <td>40</td>\n",
              "      <td>10.0</td>\n",
              "      <td>0.526391</td>\n",
              "      <td>1433</td>\n",
              "    </tr>\n",
              "    <tr>\n",
              "      <th>92</th>\n",
              "      <td>modello92</td>\n",
              "      <td>0.836294</td>\n",
              "      <td>0.769651</td>\n",
              "      <td>1</td>\n",
              "      <td>3</td>\n",
              "      <td>4</td>\n",
              "      <td>20</td>\n",
              "      <td>10.0</td>\n",
              "      <td>0.529825</td>\n",
              "      <td>1433</td>\n",
              "    </tr>\n",
              "    <tr>\n",
              "      <th>93</th>\n",
              "      <td>modello93</td>\n",
              "      <td>0.864536</td>\n",
              "      <td>0.764192</td>\n",
              "      <td>2</td>\n",
              "      <td>3</td>\n",
              "      <td>4</td>\n",
              "      <td>20</td>\n",
              "      <td>10.0</td>\n",
              "      <td>0.506071</td>\n",
              "      <td>1433</td>\n",
              "    </tr>\n",
              "    <tr>\n",
              "      <th>94</th>\n",
              "      <td>modello94</td>\n",
              "      <td>0.806035</td>\n",
              "      <td>0.712882</td>\n",
              "      <td>1</td>\n",
              "      <td>3</td>\n",
              "      <td>4</td>\n",
              "      <td>40</td>\n",
              "      <td>10.0</td>\n",
              "      <td>0.607383</td>\n",
              "      <td>1433</td>\n",
              "    </tr>\n",
              "    <tr>\n",
              "      <th>95</th>\n",
              "      <td>modello95</td>\n",
              "      <td>0.787028</td>\n",
              "      <td>0.706332</td>\n",
              "      <td>3</td>\n",
              "      <td>3</td>\n",
              "      <td>4</td>\n",
              "      <td>40</td>\n",
              "      <td>10.0</td>\n",
              "      <td>0.557382</td>\n",
              "      <td>1433</td>\n",
              "    </tr>\n",
              "  </tbody>\n",
              "</table>\n",
              "<p>96 rows × 10 columns</p>\n",
              "</div>"
            ],
            "text/plain": [
              "      Modelli   BestAUC   BestACC  ...  FattoreRiduzione   lossMin  NumFeatures\n",
              "0    modello0  0.739574  0.645197  ...               1.5  0.636166         1433\n",
              "1    modello1  0.775238  0.634279  ...               1.5  0.618343         1433\n",
              "2    modello2  0.761060  0.639738  ...               1.5  0.631665         1433\n",
              "3    modello3  0.887762  0.754367  ...               1.5  0.479629         1433\n",
              "4    modello4  0.831584  0.732533  ...               1.5  0.547104         1433\n",
              "..        ...       ...       ...  ...               ...       ...          ...\n",
              "91  modello91  0.861322  0.766376  ...              10.0  0.526391         1433\n",
              "92  modello92  0.836294  0.769651  ...              10.0  0.529825         1433\n",
              "93  modello93  0.864536  0.764192  ...              10.0  0.506071         1433\n",
              "94  modello94  0.806035  0.712882  ...              10.0  0.607383         1433\n",
              "95  modello95  0.787028  0.706332  ...              10.0  0.557382         1433\n",
              "\n",
              "[96 rows x 10 columns]"
            ]
          },
          "metadata": {
            "tags": []
          },
          "execution_count": 37
        }
      ]
    },
    {
      "cell_type": "code",
      "metadata": {
        "id": "JReN2adJdpo_",
        "outputId": "e9a69599-61b3-4f30-8493-b2a066a1a136",
        "colab": {
          "base_uri": "https://localhost:8080/",
          "height": 392
        }
      },
      "source": [
        "dataframeCitesser"
      ],
      "execution_count": 35,
      "outputs": [
        {
          "output_type": "execute_result",
          "data": {
            "text/html": [
              "<div>\n",
              "<style scoped>\n",
              "    .dataframe tbody tr th:only-of-type {\n",
              "        vertical-align: middle;\n",
              "    }\n",
              "\n",
              "    .dataframe tbody tr th {\n",
              "        vertical-align: top;\n",
              "    }\n",
              "\n",
              "    .dataframe thead th {\n",
              "        text-align: right;\n",
              "    }\n",
              "</style>\n",
              "<table border=\"1\" class=\"dataframe\">\n",
              "  <thead>\n",
              "    <tr style=\"text-align: right;\">\n",
              "      <th></th>\n",
              "      <th>Modelli</th>\n",
              "      <th>BestAUC</th>\n",
              "      <th>BestACC</th>\n",
              "      <th>LivelliLineari</th>\n",
              "      <th>LivelliGat</th>\n",
              "      <th>Head</th>\n",
              "      <th>Output</th>\n",
              "      <th>FattoreRiduzione</th>\n",
              "      <th>lossMin</th>\n",
              "      <th>NumFeatures</th>\n",
              "    </tr>\n",
              "  </thead>\n",
              "  <tbody>\n",
              "    <tr>\n",
              "      <th>0</th>\n",
              "      <td>modello0</td>\n",
              "      <td>0.746071</td>\n",
              "      <td>0.660584</td>\n",
              "      <td>1</td>\n",
              "      <td>1</td>\n",
              "      <td>1</td>\n",
              "      <td>20</td>\n",
              "      <td>1.5</td>\n",
              "      <td>0.603915</td>\n",
              "      <td>3703</td>\n",
              "    </tr>\n",
              "    <tr>\n",
              "      <th>1</th>\n",
              "      <td>modello1</td>\n",
              "      <td>0.790293</td>\n",
              "      <td>0.627737</td>\n",
              "      <td>2</td>\n",
              "      <td>1</td>\n",
              "      <td>1</td>\n",
              "      <td>20</td>\n",
              "      <td>1.5</td>\n",
              "      <td>0.579813</td>\n",
              "      <td>3703</td>\n",
              "    </tr>\n",
              "    <tr>\n",
              "      <th>2</th>\n",
              "      <td>modello2</td>\n",
              "      <td>0.827588</td>\n",
              "      <td>0.691606</td>\n",
              "      <td>1</td>\n",
              "      <td>1</td>\n",
              "      <td>1</td>\n",
              "      <td>40</td>\n",
              "      <td>1.5</td>\n",
              "      <td>0.541778</td>\n",
              "      <td>3703</td>\n",
              "    </tr>\n",
              "    <tr>\n",
              "      <th>3</th>\n",
              "      <td>modello3</td>\n",
              "      <td>0.874674</td>\n",
              "      <td>0.711679</td>\n",
              "      <td>3</td>\n",
              "      <td>1</td>\n",
              "      <td>1</td>\n",
              "      <td>40</td>\n",
              "      <td>1.5</td>\n",
              "      <td>0.523377</td>\n",
              "      <td>3703</td>\n",
              "    </tr>\n",
              "    <tr>\n",
              "      <th>4</th>\n",
              "      <td>modello4</td>\n",
              "      <td>0.867921</td>\n",
              "      <td>0.755474</td>\n",
              "      <td>1</td>\n",
              "      <td>2</td>\n",
              "      <td>1</td>\n",
              "      <td>20</td>\n",
              "      <td>1.5</td>\n",
              "      <td>0.501483</td>\n",
              "      <td>3703</td>\n",
              "    </tr>\n",
              "    <tr>\n",
              "      <th>...</th>\n",
              "      <td>...</td>\n",
              "      <td>...</td>\n",
              "      <td>...</td>\n",
              "      <td>...</td>\n",
              "      <td>...</td>\n",
              "      <td>...</td>\n",
              "      <td>...</td>\n",
              "      <td>...</td>\n",
              "      <td>...</td>\n",
              "      <td>...</td>\n",
              "    </tr>\n",
              "    <tr>\n",
              "      <th>91</th>\n",
              "      <td>modello91</td>\n",
              "      <td>0.879216</td>\n",
              "      <td>0.775547</td>\n",
              "      <td>3</td>\n",
              "      <td>2</td>\n",
              "      <td>4</td>\n",
              "      <td>40</td>\n",
              "      <td>10.0</td>\n",
              "      <td>0.548563</td>\n",
              "      <td>3703</td>\n",
              "    </tr>\n",
              "    <tr>\n",
              "      <th>92</th>\n",
              "      <td>modello92</td>\n",
              "      <td>0.872409</td>\n",
              "      <td>0.771898</td>\n",
              "      <td>1</td>\n",
              "      <td>3</td>\n",
              "      <td>4</td>\n",
              "      <td>20</td>\n",
              "      <td>10.0</td>\n",
              "      <td>0.532786</td>\n",
              "      <td>3703</td>\n",
              "    </tr>\n",
              "    <tr>\n",
              "      <th>93</th>\n",
              "      <td>modello93</td>\n",
              "      <td>0.810765</td>\n",
              "      <td>0.709854</td>\n",
              "      <td>2</td>\n",
              "      <td>3</td>\n",
              "      <td>4</td>\n",
              "      <td>20</td>\n",
              "      <td>10.0</td>\n",
              "      <td>0.590200</td>\n",
              "      <td>3703</td>\n",
              "    </tr>\n",
              "    <tr>\n",
              "      <th>94</th>\n",
              "      <td>modello94</td>\n",
              "      <td>0.886582</td>\n",
              "      <td>0.777372</td>\n",
              "      <td>1</td>\n",
              "      <td>3</td>\n",
              "      <td>4</td>\n",
              "      <td>40</td>\n",
              "      <td>10.0</td>\n",
              "      <td>0.475144</td>\n",
              "      <td>3703</td>\n",
              "    </tr>\n",
              "    <tr>\n",
              "      <th>95</th>\n",
              "      <td>modello95</td>\n",
              "      <td>0.828001</td>\n",
              "      <td>0.713504</td>\n",
              "      <td>3</td>\n",
              "      <td>3</td>\n",
              "      <td>4</td>\n",
              "      <td>40</td>\n",
              "      <td>10.0</td>\n",
              "      <td>0.557269</td>\n",
              "      <td>3703</td>\n",
              "    </tr>\n",
              "  </tbody>\n",
              "</table>\n",
              "<p>96 rows × 10 columns</p>\n",
              "</div>"
            ],
            "text/plain": [
              "      Modelli   BestAUC   BestACC  ...  FattoreRiduzione   lossMin  NumFeatures\n",
              "0    modello0  0.746071  0.660584  ...               1.5  0.603915         3703\n",
              "1    modello1  0.790293  0.627737  ...               1.5  0.579813         3703\n",
              "2    modello2  0.827588  0.691606  ...               1.5  0.541778         3703\n",
              "3    modello3  0.874674  0.711679  ...               1.5  0.523377         3703\n",
              "4    modello4  0.867921  0.755474  ...               1.5  0.501483         3703\n",
              "..        ...       ...       ...  ...               ...       ...          ...\n",
              "91  modello91  0.879216  0.775547  ...              10.0  0.548563         3703\n",
              "92  modello92  0.872409  0.771898  ...              10.0  0.532786         3703\n",
              "93  modello93  0.810765  0.709854  ...              10.0  0.590200         3703\n",
              "94  modello94  0.886582  0.777372  ...              10.0  0.475144         3703\n",
              "95  modello95  0.828001  0.713504  ...              10.0  0.557269         3703\n",
              "\n",
              "[96 rows x 10 columns]"
            ]
          },
          "metadata": {
            "tags": []
          },
          "execution_count": 35
        }
      ]
    },
    {
      "cell_type": "code",
      "metadata": {
        "id": "Cis_v5AEdprN"
      },
      "source": [
        ""
      ],
      "execution_count": null,
      "outputs": []
    },
    {
      "cell_type": "code",
      "metadata": {
        "id": "Y9OJtTg7dptw"
      },
      "source": [
        ""
      ],
      "execution_count": null,
      "outputs": []
    },
    {
      "cell_type": "code",
      "metadata": {
        "id": "xjbuqPjPdpwL"
      },
      "source": [
        ""
      ],
      "execution_count": null,
      "outputs": []
    },
    {
      "cell_type": "code",
      "metadata": {
        "id": "rvCHGe08dpzA"
      },
      "source": [
        ""
      ],
      "execution_count": null,
      "outputs": []
    },
    {
      "cell_type": "code",
      "metadata": {
        "id": "xzuR3XQJdp1i"
      },
      "source": [
        ""
      ],
      "execution_count": null,
      "outputs": []
    },
    {
      "cell_type": "code",
      "metadata": {
        "id": "pyITQjCHdp4P"
      },
      "source": [
        ""
      ],
      "execution_count": null,
      "outputs": []
    },
    {
      "cell_type": "code",
      "metadata": {
        "id": "JygNmgMudp7H"
      },
      "source": [
        ""
      ],
      "execution_count": null,
      "outputs": []
    },
    {
      "cell_type": "markdown",
      "metadata": {
        "id": "JpsxzYtry-kS"
      },
      "source": [
        "#PARAMETRI MODELLO"
      ]
    },
    {
      "cell_type": "code",
      "metadata": {
        "id": "xB_sFag7Dk7K"
      },
      "source": [
        "#CALCOLA I PARAMETRI PER IL MODELLO ------------------------------------------------------------------------------------------------\n",
        "inOutDim=[] #contiene i valori in out delle varie gat\n",
        "head=[5,4,1]  # metto gli head in base a quanti ne metto ho diversi layer \n",
        "#head=[1]\n",
        "layerGat=len(head)# quanti layer gat ho\n",
        "\n",
        "outputGat=20 # output dell'ultima gat\n",
        "linear=[outputGat,10] # vari in out dei livelli lineari 20->50 50->10 ecc l'ultimo di default nel modello viene messo a 1 \n",
        "\n",
        "#linear=[outputGat]\n",
        "layerLin=len(linear) # prendo il numero di livelli \n",
        "featureInputSize=datasetsubgrafi[\"train\"].x.size()[1] #1433 è il primo in della gat, è il num di feature \n",
        "inOutDim.append(featureInputSize) # metto come primo valore 1433\n",
        "\n",
        "#s=round(featureInputSize/layer)\n",
        "for i in range(1,layerGat):\n",
        "  inOutDim.append(round(inOutDim[i-1]/2))"
      ],
      "execution_count": null,
      "outputs": []
    },
    {
      "cell_type": "code",
      "metadata": {
        "id": "fjmBidJvDk7T"
      },
      "source": [
        "prova=GAT(layerGat, outputGat ,inOutDim,head,layerLin,linear)\n",
        "print(prova)\n",
        "prova=None"
      ],
      "execution_count": null,
      "outputs": []
    }
  ]
}